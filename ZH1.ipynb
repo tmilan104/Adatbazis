{
    "metadata": {
        "kernelspec": {
            "name": "SQL",
            "display_name": "SQL",
            "language": "sql"
        },
        "language_info": {
            "name": "sql",
            "version": ""
        }
    },
    "nbformat_minor": 2,
    "nbformat": 4,
    "cells": [
        {
            "cell_type": "markdown",
            "source": [
                "1\\. feladat"
            ],
            "metadata": {
                "azdata_cell_guid": "c9a2c2fa-293e-4ffe-88e3-e6b28230bcfa"
            },
            "attachments": {}
        },
        {
            "cell_type": "code",
            "source": [
                "SELECT szh.szallas_id, szh.szallas_nev, Count(szoba_id) AS 'Klímás szobák száma'\r\n",
                "FROM Szallashely szh JOIN Szoba sz ON szh.SZALLAS_ID = sz.SZALLAS_FK\r\n",
                "WHERE KLIMAS = 'i'\r\n",
                "GROUP BY SZALLAS_ID, SZALLAS_NEV"
            ],
            "metadata": {
                "azdata_cell_guid": "4a436007-03f2-4927-844d-ad1d0522cd16",
                "language": "sql",
                "tags": []
            },
            "outputs": [
                {
                    "output_type": "display_data",
                    "data": {
                        "text/html": "(20 rows affected)"
                    },
                    "metadata": {}
                },
                {
                    "output_type": "display_data",
                    "data": {
                        "text/html": "Total execution time: 00:00:00.012"
                    },
                    "metadata": {}
                },
                {
                    "output_type": "execute_result",
                    "metadata": {},
                    "execution_count": 6,
                    "data": {
                        "application/vnd.dataresource+json": {
                            "schema": {
                                "fields": [
                                    {
                                        "name": "szallas_id"
                                    },
                                    {
                                        "name": "szallas_nev"
                                    },
                                    {
                                        "name": "Klímás szobák száma"
                                    }
                                ]
                            },
                            "data": [
                                {
                                    "szallas_id": "1",
                                    "szallas_nev": "Sába-Ház",
                                    "Klímás szobák száma": "10"
                                },
                                {
                                    "szallas_id": "2",
                                    "szallas_nev": "Családi Ház",
                                    "Klímás szobák száma": "4"
                                },
                                {
                                    "szallas_id": "3",
                                    "szallas_nev": "Fortuna Apartman",
                                    "Klímás szobák száma": "5"
                                },
                                {
                                    "szallas_id": "4",
                                    "szallas_nev": "Fortuna panzió",
                                    "Klímás szobák száma": "12"
                                },
                                {
                                    "szallas_id": "5",
                                    "szallas_nev": "Fortuna Panzió",
                                    "Klímás szobák száma": "8"
                                },
                                {
                                    "szallas_id": "6",
                                    "szallas_nev": "Kentaur Hotel",
                                    "Klímás szobák száma": "22"
                                },
                                {
                                    "szallas_id": "7",
                                    "szallas_nev": "Szieszta Apartmanház",
                                    "Klímás szobák száma": "4"
                                },
                                {
                                    "szallas_id": "8",
                                    "szallas_nev": "Hotel Három Hattyú",
                                    "Klímás szobák száma": "28"
                                },
                                {
                                    "szallas_id": "9",
                                    "szallas_nev": "Jáde panzió",
                                    "Klímás szobák száma": "2"
                                },
                                {
                                    "szallas_id": "10",
                                    "szallas_nev": "Lagúna Hotel",
                                    "Klímás szobák száma": "15"
                                },
                                {
                                    "szallas_id": "11",
                                    "szallas_nev": "Partiszél Vendégház",
                                    "Klímás szobák száma": "4"
                                },
                                {
                                    "szallas_id": "12",
                                    "szallas_nev": "Gold Hotel",
                                    "Klímás szobák száma": "42"
                                },
                                {
                                    "szallas_id": "13",
                                    "szallas_nev": "Riviéra Panzió",
                                    "Klímás szobák száma": "8"
                                },
                                {
                                    "szallas_id": "14",
                                    "szallas_nev": "Nyárfás Vendégház",
                                    "Klímás szobák száma": "4"
                                },
                                {
                                    "szallas_id": "15",
                                    "szallas_nev": "Tímárház Panzió",
                                    "Klímás szobák száma": "9"
                                },
                                {
                                    "szallas_id": "16",
                                    "szallas_nev": "Bagoly Hotel",
                                    "Klímás szobák száma": "14"
                                },
                                {
                                    "szallas_id": "17",
                                    "szallas_nev": "Szarvas Hotel",
                                    "Klímás szobák száma": "11"
                                },
                                {
                                    "szallas_id": "18",
                                    "szallas_nev": "Fortuna Apartman",
                                    "Klímás szobák száma": "2"
                                },
                                {
                                    "szallas_id": "19",
                                    "szallas_nev": "Nyárfás Vendégház",
                                    "Klímás szobák száma": "2"
                                },
                                {
                                    "szallas_id": "20",
                                    "szallas_nev": "Kollégium",
                                    "Klímás szobák száma": "9"
                                }
                            ]
                        },
                        "text/html": [
                            "<table>",
                            "<tr><th>szallas_id</th><th>szallas_nev</th><th>Klímás szobák száma</th></tr>",
                            "<tr><td>1</td><td>Sába-Ház</td><td>10</td></tr>",
                            "<tr><td>2</td><td>Családi Ház</td><td>4</td></tr>",
                            "<tr><td>3</td><td>Fortuna Apartman</td><td>5</td></tr>",
                            "<tr><td>4</td><td>Fortuna panzió</td><td>12</td></tr>",
                            "<tr><td>5</td><td>Fortuna Panzió</td><td>8</td></tr>",
                            "<tr><td>6</td><td>Kentaur Hotel</td><td>22</td></tr>",
                            "<tr><td>7</td><td>Szieszta Apartmanház</td><td>4</td></tr>",
                            "<tr><td>8</td><td>Hotel Három Hattyú</td><td>28</td></tr>",
                            "<tr><td>9</td><td>Jáde panzió</td><td>2</td></tr>",
                            "<tr><td>10</td><td>Lagúna Hotel</td><td>15</td></tr>",
                            "<tr><td>11</td><td>Partiszél Vendégház</td><td>4</td></tr>",
                            "<tr><td>12</td><td>Gold Hotel</td><td>42</td></tr>",
                            "<tr><td>13</td><td>Riviéra Panzió</td><td>8</td></tr>",
                            "<tr><td>14</td><td>Nyárfás Vendégház</td><td>4</td></tr>",
                            "<tr><td>15</td><td>Tímárház Panzió</td><td>9</td></tr>",
                            "<tr><td>16</td><td>Bagoly Hotel</td><td>14</td></tr>",
                            "<tr><td>17</td><td>Szarvas Hotel</td><td>11</td></tr>",
                            "<tr><td>18</td><td>Fortuna Apartman</td><td>2</td></tr>",
                            "<tr><td>19</td><td>Nyárfás Vendégház</td><td>2</td></tr>",
                            "<tr><td>20</td><td>Kollégium</td><td>9</td></tr>",
                            "</table>"
                        ]
                    }
                }
            ],
            "execution_count": 6
        },
        {
            "cell_type": "markdown",
            "source": [
                "2\\. feladat"
            ],
            "metadata": {
                "azdata_cell_guid": "c6351b04-4e01-44e0-95ca-1397333a0309"
            },
            "attachments": {}
        },
        {
            "cell_type": "code",
            "source": [
                "SELECT \r\n",
                "    CASE \r\n",
                "        WHEN SZUL_DAT >= '1985-01-01' THEN 'fiatal'\r\n",
                "        WHEN SZUL_DAT < '1970-01-01' THEN 'idős'\r\n",
                "        ELSE 'középkorú'\r\n",
                "    END AS 'Kategoriák',\r\n",
                "    COUNT(SZOBA_FK) AS 'Foglalások száma'\r\n",
                "FROM \r\n",
                "    Vendeg v \r\n",
                "JOIN \r\n",
                "    Foglalas f ON v.USERNEV = f.UGYFEL_FK\r\n",
                "GROUP BY \r\n",
                "    CASE \r\n",
                "        WHEN SZUL_DAT >= '1985-01-01' THEN 'fiatal'\r\n",
                "        WHEN SZUL_DAT < '1970-01-01' THEN 'idős'\r\n",
                "        ELSE 'középkorú'\r\n",
                "    END\r\n",
                "HAVING \r\n",
                "    COUNT(SZOBA_FK) > 1;\r\n",
                ""
            ],
            "metadata": {
                "azdata_cell_guid": "3f37edb4-b3b5-4502-942b-05bc09396763",
                "language": "sql",
                "tags": []
            },
            "outputs": [
                {
                    "output_type": "display_data",
                    "data": {
                        "text/html": "(3 rows affected)"
                    },
                    "metadata": {}
                },
                {
                    "output_type": "display_data",
                    "data": {
                        "text/html": "Total execution time: 00:00:00.014"
                    },
                    "metadata": {}
                },
                {
                    "output_type": "execute_result",
                    "metadata": {},
                    "execution_count": 18,
                    "data": {
                        "application/vnd.dataresource+json": {
                            "schema": {
                                "fields": [
                                    {
                                        "name": "Kategoriák"
                                    },
                                    {
                                        "name": "Foglalások száma"
                                    }
                                ]
                            },
                            "data": [
                                {
                                    "Kategoriák": "fiatal",
                                    "Foglalások száma": "432"
                                },
                                {
                                    "Kategoriák": "középkorú",
                                    "Foglalások száma": "475"
                                },
                                {
                                    "Kategoriák": "idős",
                                    "Foglalások száma": "120"
                                }
                            ]
                        },
                        "text/html": [
                            "<table>",
                            "<tr><th>Kategoriák</th><th>Foglalások száma</th></tr>",
                            "<tr><td>fiatal</td><td>432</td></tr>",
                            "<tr><td>középkorú</td><td>475</td></tr>",
                            "<tr><td>idős</td><td>120</td></tr>",
                            "</table>"
                        ]
                    }
                }
            ],
            "execution_count": 18
        }
    ]
}