{
    "metadata": {
        "kernelspec": {
            "name": "SQL",
            "display_name": "SQL",
            "language": "sql"
        },
        "language_info": {
            "name": "sql",
            "version": ""
        }
    },
    "nbformat_minor": 2,
    "nbformat": 4,
    "cells": [
        {
            "cell_type": "markdown",
            "source": [
                "A LISTAAR oszlop statisztikai összegzése:"
            ],
            "metadata": {
                "azdata_cell_guid": "157c74d8-c037-43e0-a1a9-a6d85ecea003"
            },
            "attachments": {}
        },
        {
            "cell_type": "code",
            "source": [
                "SELECT Concat(MIN(LISTAAR), ' Ft')  AS 'Legolcsóbb termék', \r\n",
                "       Concat(MAX(LISTAAR), ' Ft') AS 'Legdrágább termék', \r\n",
                "       Concat(AVG(LISTAAR), ' Ft') AS 'Átlag ár',\r\n",
                "       Concat(STDEV(LISTAAR), ' Ft') AS 'Szórás',\r\n",
                "       Concat(VAR(LISTAAR), ' Ft') AS 'Variancia'\r\n",
                "FROM Termek"
            ],
            "metadata": {
                "azdata_cell_guid": "9c5c4d99-c05d-40d9-81ad-f8b916583fbb",
                "language": "sql",
                "tags": []
            },
            "outputs": [
                {
                    "output_type": "display_data",
                    "data": {
                        "text/html": "(1 row affected)"
                    },
                    "metadata": {}
                },
                {
                    "output_type": "display_data",
                    "data": {
                        "text/html": "Total execution time: 00:00:00.017"
                    },
                    "metadata": {}
                },
                {
                    "output_type": "execute_result",
                    "metadata": {},
                    "execution_count": 1,
                    "data": {
                        "application/vnd.dataresource+json": {
                            "schema": {
                                "fields": [
                                    {
                                        "name": "Legolcsóbb termék"
                                    },
                                    {
                                        "name": "Legdrágább termék"
                                    },
                                    {
                                        "name": "Átlag ár"
                                    },
                                    {
                                        "name": "Szórás"
                                    },
                                    {
                                        "name": "Variancia"
                                    }
                                ]
                            },
                            "data": [
                                {
                                    "Legolcsóbb termék": "0 Ft",
                                    "Legdrágább termék": "46000 Ft",
                                    "Átlag ár": "786.281 Ft",
                                    "Szórás": "3602.48 Ft",
                                    "Variancia": "1.29779e+007 Ft"
                                }
                            ]
                        },
                        "text/html": [
                            "<table>",
                            "<tr><th>Legolcsóbb termék</th><th>Legdrágább termék</th><th>Átlag ár</th><th>Szórás</th><th>Variancia</th></tr>",
                            "<tr><td>0 Ft</td><td>46000 Ft</td><td>786.281 Ft</td><td>3602.48 Ft</td><td>1.29779e+007 Ft</td></tr>",
                            "</table>"
                        ]
                    }
                }
            ],
            "execution_count": 1
        },
        {
            "cell_type": "markdown",
            "source": [
                "A LEIRAS oszlop statisztikai összegzése:"
            ],
            "metadata": {
                "azdata_cell_guid": "5ca6c0d1-fb27-4905-8287-0f34978a9d46"
            },
            "attachments": {}
        },
        {
            "cell_type": "code",
            "source": [
                "SELECT \r\n",
                "    COUNT(*) AS 'Összes sor',  \r\n",
                "    COUNT(LEIRAS) AS 'Nem NULL értékek',  \r\n",
                "    SUM(CASE WHEN LEIRAS IS NULL THEN 1 ELSE 0 END) AS 'NULL értékek száma',  \r\n",
                "    (SUM(CASE WHEN LEIRAS IS NULL THEN 1 ELSE 0 END) * 100.0 / COUNT(*)) AS 'NULL értékek aránya (%)',  \r\n",
                "    MIN(LEIRAS) AS 'ABC szerint első leírás',  \r\n",
                "    MAX(LEIRAS) AS 'ABC szerint utolsó leírás',  \r\n",
                "    MIN(LEN(LEIRAS)) AS 'Legrövidebb leírás',  \r\n",
                "    MAX(LEN(LEIRAS)) AS 'Leghosszabb leírás',  \r\n",
                "    AVG(LEN(LEIRAS)) AS 'Leírások átlagos hossza',  \r\n",
                "    STDEV(LEN(LEIRAS)) AS 'Szórás',  \r\n",
                "    VAR(LEN(LEIRAS)) AS 'Variancia'  \r\n",
                "FROM Termek  "
            ],
            "metadata": {
                "azdata_cell_guid": "6ad9f5b3-ea73-467c-89bf-c60807240304",
                "language": "sql"
            },
            "outputs": [
                {
                    "output_type": "display_data",
                    "data": {
                        "text/html": "Warning: Null value is eliminated by an aggregate or other SET operation."
                    },
                    "metadata": {}
                },
                {
                    "output_type": "display_data",
                    "data": {
                        "text/html": "(1 row affected)"
                    },
                    "metadata": {}
                },
                {
                    "output_type": "display_data",
                    "data": {
                        "text/html": "Total execution time: 00:00:00.024"
                    },
                    "metadata": {}
                },
                {
                    "output_type": "execute_result",
                    "metadata": {},
                    "execution_count": 2,
                    "data": {
                        "application/vnd.dataresource+json": {
                            "schema": {
                                "fields": [
                                    {
                                        "name": "Összes sor"
                                    },
                                    {
                                        "name": "Nem NULL értékek"
                                    },
                                    {
                                        "name": "NULL értékek száma"
                                    },
                                    {
                                        "name": "NULL értékek aránya (%)"
                                    },
                                    {
                                        "name": "ABC szerint első leírás"
                                    },
                                    {
                                        "name": "ABC szerint utolsó leírás"
                                    },
                                    {
                                        "name": "Legrövidebb leírás"
                                    },
                                    {
                                        "name": "Leghosszabb leírás"
                                    },
                                    {
                                        "name": "Leírások átlagos hossza"
                                    },
                                    {
                                        "name": "Szórás"
                                    },
                                    {
                                        "name": "Variancia"
                                    }
                                ]
                            },
                            "data": [
                                {
                                    "Összes sor": "551",
                                    "Nem NULL értékek": "24",
                                    "NULL értékek száma": "527",
                                    "NULL értékek aránya (%)": "95.644283121597",
                                    "ABC szerint első leírás": "barna (szövet) ",
                                    "ABC szerint utolsó leírás": "tört fehér  ",
                                    "Legrövidebb leírás": "5",
                                    "Leghosszabb leírás": "19",
                                    "Leírások átlagos hossza": "11",
                                    "Szórás": "4,1491661463654275",
                                    "Variancia": "17,215579710144933"
                                }
                            ]
                        },
                        "text/html": [
                            "<table>",
                            "<tr><th>Összes sor</th><th>Nem NULL értékek</th><th>NULL értékek száma</th><th>NULL értékek aránya (%)</th><th>ABC szerint első leírás</th><th>ABC szerint utolsó leírás</th><th>Legrövidebb leírás</th><th>Leghosszabb leírás</th><th>Leírások átlagos hossza</th><th>Szórás</th><th>Variancia</th></tr>",
                            "<tr><td>551</td><td>24</td><td>527</td><td>95.644283121597</td><td>barna (szövet) </td><td>tört fehér  </td><td>5</td><td>19</td><td>11</td><td>4,1491661463654275</td><td>17,215579710144933</td></tr>",
                            "</table>"
                        ]
                    }
                }
            ],
            "execution_count": 2
        },
        {
            "cell_type": "markdown",
            "source": [
                "A KESZLET oszlop statisztikai összegzése:"
            ],
            "metadata": {
                "azdata_cell_guid": "d72de39e-db61-458a-83be-d2c97957daba"
            },
            "attachments": {}
        },
        {
            "cell_type": "code",
            "source": [
                "SELECT MIN(KESZLET)  AS 'Legkisebb készlet', \r\n",
                "       MAX(KESZLET) AS 'Legnagyobb készlet', \r\n",
                "       AVG(KESZLET) AS 'Átlag készlet',\r\n",
                "       STDEV(KESZLET) AS 'Szórás',\r\n",
                "       VAR(KESZLET) AS 'Variancia',\r\n",
                "       COUNT(CASE WHEN KESZLET = 0 THEN 1 END) AS 'Nulla készletű termékek száma'\r\n",
                "FROM Termek\r\n",
                ""
            ],
            "metadata": {
                "azdata_cell_guid": "89a43cd9-fe61-4eeb-b38e-9bfe30cd66b1",
                "language": "sql"
            },
            "outputs": [
                {
                    "output_type": "display_data",
                    "data": {
                        "text/html": "Warning: Null value is eliminated by an aggregate or other SET operation."
                    },
                    "metadata": {}
                },
                {
                    "output_type": "display_data",
                    "data": {
                        "text/html": "(1 row affected)"
                    },
                    "metadata": {}
                },
                {
                    "output_type": "display_data",
                    "data": {
                        "text/html": "Total execution time: 00:00:00.021"
                    },
                    "metadata": {}
                },
                {
                    "output_type": "execute_result",
                    "metadata": {},
                    "execution_count": 3,
                    "data": {
                        "application/vnd.dataresource+json": {
                            "schema": {
                                "fields": [
                                    {
                                        "name": "Legkisebb készlet"
                                    },
                                    {
                                        "name": "Legnagyobb készlet"
                                    },
                                    {
                                        "name": "Átlag készlet"
                                    },
                                    {
                                        "name": "Szórás"
                                    },
                                    {
                                        "name": "Variancia"
                                    },
                                    {
                                        "name": "Nulla készletű termékek száma"
                                    }
                                ]
                            },
                            "data": [
                                {
                                    "Legkisebb készlet": "0",
                                    "Legnagyobb készlet": "50000",
                                    "Átlag készlet": "1585,9909255898367",
                                    "Szórás": "4604,3876191291965",
                                    "Variancia": "21200385,34719023",
                                    "Nulla készletű termékek száma": "2"
                                }
                            ]
                        },
                        "text/html": [
                            "<table>",
                            "<tr><th>Legkisebb készlet</th><th>Legnagyobb készlet</th><th>Átlag készlet</th><th>Szórás</th><th>Variancia</th><th>Nulla készletű termékek száma</th></tr>",
                            "<tr><td>0</td><td>50000</td><td>1585,9909255898367</td><td>4604,3876191291965</td><td>21200385,34719023</td><td>2</td></tr>",
                            "</table>"
                        ]
                    }
                }
            ],
            "execution_count": 3
        }
    ]
}