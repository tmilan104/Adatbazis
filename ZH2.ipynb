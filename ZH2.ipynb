{
    "metadata": {
        "kernelspec": {
            "name": "SQL",
            "display_name": "SQL",
            "language": "sql"
        },
        "language_info": {
            "name": "sql",
            "version": ""
        }
    },
    "nbformat_minor": 2,
    "nbformat": 4,
    "cells": [
        {
            "cell_type": "markdown",
            "source": [
                "1\\. Feladat"
            ],
            "metadata": {
                "azdata_cell_guid": "f05ae82b-6d6c-43c2-b524-71db58cdf4a9"
            },
            "attachments": {}
        },
        {
            "cell_type": "code",
            "source": [
                "SELECT IIF(sz.SZOBA_ID IS NULL, 'Végösszeg', CAST(sz.SZOBA_ID AS VARCHAR)) AS 'Szoba',\r\n",
                "       COUNT(DISTINCT(f.FOGLALAS_PK)) AS 'Különböző foglalások száma'\r\n",
                "FROM SZOBA sz \r\n",
                "LEFT JOIN Foglalas f ON sz.SZOBA_ID = f.SZOBA_FK\r\n",
                "WHERE FELNOTT_SZAM > GYERMEK_SZAM\r\n",
                "GROUP BY ROLLUP(sz.SZOBA_ID);\r\n",
                ""
            ],
            "metadata": {
                "azdata_cell_guid": "9facb2d6-527b-4dd6-9f5a-ac5fb479e47a",
                "language": "sql"
            },
            "outputs": [
                {
                    "output_type": "display_data",
                    "data": {
                        "text/html": "(190 rows affected)"
                    },
                    "metadata": {}
                },
                {
                    "output_type": "display_data",
                    "data": {
                        "text/html": "Total execution time: 00:00:00.008"
                    },
                    "metadata": {}
                },
                {
                    "output_type": "execute_result",
                    "metadata": {},
                    "execution_count": 17,
                    "data": {
                        "application/vnd.dataresource+json": {
                            "schema": {
                                "fields": [
                                    {
                                        "name": "Szoba"
                                    },
                                    {
                                        "name": "Különböző foglalások száma"
                                    }
                                ]
                            },
                            "data": [
                                {
                                    "Szoba": "1",
                                    "Különböző foglalások száma": "7"
                                },
                                {
                                    "Szoba": "2",
                                    "Különböző foglalások száma": "2"
                                },
                                {
                                    "Szoba": "3",
                                    "Különböző foglalások száma": "3"
                                },
                                {
                                    "Szoba": "4",
                                    "Különböző foglalások száma": "5"
                                },
                                {
                                    "Szoba": "5",
                                    "Különböző foglalások száma": "2"
                                },
                                {
                                    "Szoba": "6",
                                    "Különböző foglalások száma": "5"
                                },
                                {
                                    "Szoba": "7",
                                    "Különböző foglalások száma": "6"
                                },
                                {
                                    "Szoba": "8",
                                    "Különböző foglalások száma": "5"
                                },
                                {
                                    "Szoba": "9",
                                    "Különböző foglalások száma": "4"
                                },
                                {
                                    "Szoba": "10",
                                    "Különböző foglalások száma": "4"
                                },
                                {
                                    "Szoba": "11",
                                    "Különböző foglalások száma": "4"
                                },
                                {
                                    "Szoba": "12",
                                    "Különböző foglalások száma": "7"
                                },
                                {
                                    "Szoba": "13",
                                    "Különböző foglalások száma": "4"
                                },
                                {
                                    "Szoba": "14",
                                    "Különböző foglalások száma": "3"
                                },
                                {
                                    "Szoba": "15",
                                    "Különböző foglalások száma": "4"
                                },
                                {
                                    "Szoba": "16",
                                    "Különböző foglalások száma": "1"
                                },
                                {
                                    "Szoba": "17",
                                    "Különböző foglalások száma": "2"
                                },
                                {
                                    "Szoba": "18",
                                    "Különböző foglalások száma": "3"
                                },
                                {
                                    "Szoba": "19",
                                    "Különböző foglalások száma": "4"
                                },
                                {
                                    "Szoba": "20",
                                    "Különböző foglalások száma": "5"
                                },
                                {
                                    "Szoba": "21",
                                    "Különböző foglalások száma": "1"
                                },
                                {
                                    "Szoba": "22",
                                    "Különböző foglalások száma": "2"
                                },
                                {
                                    "Szoba": "23",
                                    "Különböző foglalások száma": "3"
                                },
                                {
                                    "Szoba": "24",
                                    "Különböző foglalások száma": "3"
                                },
                                {
                                    "Szoba": "25",
                                    "Különböző foglalások száma": "1"
                                },
                                {
                                    "Szoba": "27",
                                    "Különböző foglalások száma": "5"
                                },
                                {
                                    "Szoba": "28",
                                    "Különböző foglalások száma": "5"
                                },
                                {
                                    "Szoba": "29",
                                    "Különböző foglalások száma": "3"
                                },
                                {
                                    "Szoba": "30",
                                    "Különböző foglalások száma": "2"
                                },
                                {
                                    "Szoba": "31",
                                    "Különböző foglalások száma": "1"
                                },
                                {
                                    "Szoba": "32",
                                    "Különböző foglalások száma": "1"
                                },
                                {
                                    "Szoba": "33",
                                    "Különböző foglalások száma": "3"
                                },
                                {
                                    "Szoba": "34",
                                    "Különböző foglalások száma": "3"
                                },
                                {
                                    "Szoba": "35",
                                    "Különböző foglalások száma": "6"
                                },
                                {
                                    "Szoba": "36",
                                    "Különböző foglalások száma": "4"
                                },
                                {
                                    "Szoba": "37",
                                    "Különböző foglalások száma": "2"
                                },
                                {
                                    "Szoba": "38",
                                    "Különböző foglalások száma": "5"
                                },
                                {
                                    "Szoba": "39",
                                    "Különböző foglalások száma": "4"
                                },
                                {
                                    "Szoba": "40",
                                    "Különböző foglalások száma": "3"
                                },
                                {
                                    "Szoba": "41",
                                    "Különböző foglalások száma": "1"
                                },
                                {
                                    "Szoba": "42",
                                    "Különböző foglalások száma": "5"
                                },
                                {
                                    "Szoba": "43",
                                    "Különböző foglalások száma": "4"
                                },
                                {
                                    "Szoba": "44",
                                    "Különböző foglalások száma": "6"
                                },
                                {
                                    "Szoba": "45",
                                    "Különböző foglalások száma": "4"
                                },
                                {
                                    "Szoba": "46",
                                    "Különböző foglalások száma": "3"
                                },
                                {
                                    "Szoba": "47",
                                    "Különböző foglalások száma": "2"
                                },
                                {
                                    "Szoba": "48",
                                    "Különböző foglalások száma": "6"
                                },
                                {
                                    "Szoba": "49",
                                    "Különböző foglalások száma": "5"
                                },
                                {
                                    "Szoba": "50",
                                    "Különböző foglalások száma": "3"
                                },
                                {
                                    "Szoba": "51",
                                    "Különböző foglalások száma": "3"
                                },
                                {
                                    "Szoba": "52",
                                    "Különböző foglalások száma": "5"
                                },
                                {
                                    "Szoba": "54",
                                    "Különböző foglalások száma": "4"
                                },
                                {
                                    "Szoba": "55",
                                    "Különböző foglalások száma": "3"
                                },
                                {
                                    "Szoba": "56",
                                    "Különböző foglalások száma": "1"
                                },
                                {
                                    "Szoba": "57",
                                    "Különböző foglalások száma": "3"
                                },
                                {
                                    "Szoba": "58",
                                    "Különböző foglalások száma": "8"
                                },
                                {
                                    "Szoba": "59",
                                    "Különböző foglalások száma": "4"
                                },
                                {
                                    "Szoba": "60",
                                    "Különböző foglalások száma": "1"
                                },
                                {
                                    "Szoba": "61",
                                    "Különböző foglalások száma": "4"
                                },
                                {
                                    "Szoba": "62",
                                    "Különböző foglalások száma": "3"
                                },
                                {
                                    "Szoba": "63",
                                    "Különböző foglalások száma": "3"
                                },
                                {
                                    "Szoba": "64",
                                    "Különböző foglalások száma": "5"
                                },
                                {
                                    "Szoba": "66",
                                    "Különböző foglalások száma": "3"
                                },
                                {
                                    "Szoba": "67",
                                    "Különböző foglalások száma": "2"
                                },
                                {
                                    "Szoba": "69",
                                    "Különböző foglalások száma": "2"
                                },
                                {
                                    "Szoba": "70",
                                    "Különböző foglalások száma": "8"
                                },
                                {
                                    "Szoba": "71",
                                    "Különböző foglalások száma": "2"
                                },
                                {
                                    "Szoba": "72",
                                    "Különböző foglalások száma": "2"
                                },
                                {
                                    "Szoba": "73",
                                    "Különböző foglalások száma": "4"
                                },
                                {
                                    "Szoba": "74",
                                    "Különböző foglalások száma": "8"
                                },
                                {
                                    "Szoba": "75",
                                    "Különböző foglalások száma": "2"
                                },
                                {
                                    "Szoba": "76",
                                    "Különböző foglalások száma": "2"
                                },
                                {
                                    "Szoba": "77",
                                    "Különböző foglalások száma": "3"
                                },
                                {
                                    "Szoba": "78",
                                    "Különböző foglalások száma": "3"
                                },
                                {
                                    "Szoba": "79",
                                    "Különböző foglalások száma": "4"
                                },
                                {
                                    "Szoba": "80",
                                    "Különböző foglalások száma": "5"
                                },
                                {
                                    "Szoba": "81",
                                    "Különböző foglalások száma": "3"
                                },
                                {
                                    "Szoba": "82",
                                    "Különböző foglalások száma": "5"
                                },
                                {
                                    "Szoba": "83",
                                    "Különböző foglalások száma": "5"
                                },
                                {
                                    "Szoba": "84",
                                    "Különböző foglalások száma": "3"
                                },
                                {
                                    "Szoba": "85",
                                    "Különböző foglalások száma": "2"
                                },
                                {
                                    "Szoba": "86",
                                    "Különböző foglalások száma": "4"
                                },
                                {
                                    "Szoba": "87",
                                    "Különböző foglalások száma": "5"
                                },
                                {
                                    "Szoba": "88",
                                    "Különböző foglalások száma": "5"
                                },
                                {
                                    "Szoba": "89",
                                    "Különböző foglalások száma": "8"
                                },
                                {
                                    "Szoba": "90",
                                    "Különböző foglalások száma": "3"
                                },
                                {
                                    "Szoba": "91",
                                    "Különböző foglalások száma": "2"
                                },
                                {
                                    "Szoba": "92",
                                    "Különböző foglalások száma": "5"
                                },
                                {
                                    "Szoba": "93",
                                    "Különböző foglalások száma": "3"
                                },
                                {
                                    "Szoba": "94",
                                    "Különböző foglalások száma": "6"
                                },
                                {
                                    "Szoba": "95",
                                    "Különböző foglalások száma": "3"
                                },
                                {
                                    "Szoba": "96",
                                    "Különböző foglalások száma": "6"
                                },
                                {
                                    "Szoba": "97",
                                    "Különböző foglalások száma": "5"
                                },
                                {
                                    "Szoba": "98",
                                    "Különböző foglalások száma": "4"
                                },
                                {
                                    "Szoba": "99",
                                    "Különböző foglalások száma": "4"
                                },
                                {
                                    "Szoba": "100",
                                    "Különböző foglalások száma": "2"
                                },
                                {
                                    "Szoba": "101",
                                    "Különböző foglalások száma": "1"
                                },
                                {
                                    "Szoba": "102",
                                    "Különböző foglalások száma": "1"
                                },
                                {
                                    "Szoba": "103",
                                    "Különböző foglalások száma": "1"
                                },
                                {
                                    "Szoba": "104",
                                    "Különböző foglalások száma": "3"
                                },
                                {
                                    "Szoba": "106",
                                    "Különböző foglalások száma": "4"
                                },
                                {
                                    "Szoba": "107",
                                    "Különböző foglalások száma": "4"
                                },
                                {
                                    "Szoba": "108",
                                    "Különböző foglalások száma": "1"
                                },
                                {
                                    "Szoba": "109",
                                    "Különböző foglalások száma": "2"
                                },
                                {
                                    "Szoba": "110",
                                    "Különböző foglalások száma": "5"
                                },
                                {
                                    "Szoba": "111",
                                    "Különböző foglalások száma": "1"
                                },
                                {
                                    "Szoba": "112",
                                    "Különböző foglalások száma": "4"
                                },
                                {
                                    "Szoba": "113",
                                    "Különböző foglalások száma": "2"
                                },
                                {
                                    "Szoba": "114",
                                    "Különböző foglalások száma": "1"
                                },
                                {
                                    "Szoba": "115",
                                    "Különböző foglalások száma": "5"
                                },
                                {
                                    "Szoba": "117",
                                    "Különböző foglalások száma": "4"
                                },
                                {
                                    "Szoba": "118",
                                    "Különböző foglalások száma": "2"
                                },
                                {
                                    "Szoba": "119",
                                    "Különböző foglalások száma": "4"
                                },
                                {
                                    "Szoba": "120",
                                    "Különböző foglalások száma": "2"
                                },
                                {
                                    "Szoba": "121",
                                    "Különböző foglalások száma": "5"
                                },
                                {
                                    "Szoba": "122",
                                    "Különböző foglalások száma": "3"
                                },
                                {
                                    "Szoba": "123",
                                    "Különböző foglalások száma": "5"
                                },
                                {
                                    "Szoba": "124",
                                    "Különböző foglalások száma": "4"
                                },
                                {
                                    "Szoba": "126",
                                    "Különböző foglalások száma": "4"
                                },
                                {
                                    "Szoba": "127",
                                    "Különböző foglalások száma": "5"
                                },
                                {
                                    "Szoba": "129",
                                    "Különböző foglalások száma": "3"
                                },
                                {
                                    "Szoba": "130",
                                    "Különböző foglalások száma": "5"
                                },
                                {
                                    "Szoba": "131",
                                    "Különböző foglalások száma": "4"
                                },
                                {
                                    "Szoba": "132",
                                    "Különböző foglalások száma": "4"
                                },
                                {
                                    "Szoba": "133",
                                    "Különböző foglalások száma": "4"
                                },
                                {
                                    "Szoba": "134",
                                    "Különböző foglalások száma": "4"
                                },
                                {
                                    "Szoba": "135",
                                    "Különböző foglalások száma": "3"
                                },
                                {
                                    "Szoba": "136",
                                    "Különböző foglalások száma": "2"
                                },
                                {
                                    "Szoba": "137",
                                    "Különböző foglalások száma": "2"
                                },
                                {
                                    "Szoba": "138",
                                    "Különböző foglalások száma": "5"
                                },
                                {
                                    "Szoba": "139",
                                    "Különböző foglalások száma": "6"
                                },
                                {
                                    "Szoba": "140",
                                    "Különböző foglalások száma": "5"
                                },
                                {
                                    "Szoba": "141",
                                    "Különböző foglalások száma": "4"
                                },
                                {
                                    "Szoba": "142",
                                    "Különböző foglalások száma": "1"
                                },
                                {
                                    "Szoba": "143",
                                    "Különböző foglalások száma": "5"
                                },
                                {
                                    "Szoba": "144",
                                    "Különböző foglalások száma": "2"
                                },
                                {
                                    "Szoba": "145",
                                    "Különböző foglalások száma": "2"
                                },
                                {
                                    "Szoba": "146",
                                    "Különböző foglalások száma": "3"
                                },
                                {
                                    "Szoba": "147",
                                    "Különböző foglalások száma": "1"
                                },
                                {
                                    "Szoba": "148",
                                    "Különböző foglalások száma": "5"
                                },
                                {
                                    "Szoba": "149",
                                    "Különböző foglalások száma": "5"
                                },
                                {
                                    "Szoba": "150",
                                    "Különböző foglalások száma": "6"
                                },
                                {
                                    "Szoba": "151",
                                    "Különböző foglalások száma": "2"
                                },
                                {
                                    "Szoba": "152",
                                    "Különböző foglalások száma": "3"
                                },
                                {
                                    "Szoba": "153",
                                    "Különböző foglalások száma": "4"
                                },
                                {
                                    "Szoba": "154",
                                    "Különböző foglalások száma": "3"
                                },
                                {
                                    "Szoba": "155",
                                    "Különböző foglalások száma": "3"
                                },
                                {
                                    "Szoba": "156",
                                    "Különböző foglalások száma": "2"
                                },
                                {
                                    "Szoba": "157",
                                    "Különböző foglalások száma": "2"
                                },
                                {
                                    "Szoba": "158",
                                    "Különböző foglalások száma": "3"
                                },
                                {
                                    "Szoba": "160",
                                    "Különböző foglalások száma": "2"
                                },
                                {
                                    "Szoba": "161",
                                    "Különböző foglalások száma": "3"
                                },
                                {
                                    "Szoba": "162",
                                    "Különböző foglalások száma": "2"
                                },
                                {
                                    "Szoba": "163",
                                    "Különböző foglalások száma": "5"
                                },
                                {
                                    "Szoba": "164",
                                    "Különböző foglalások száma": "4"
                                },
                                {
                                    "Szoba": "165",
                                    "Különböző foglalások száma": "5"
                                },
                                {
                                    "Szoba": "166",
                                    "Különböző foglalások száma": "3"
                                },
                                {
                                    "Szoba": "167",
                                    "Különböző foglalások száma": "2"
                                },
                                {
                                    "Szoba": "168",
                                    "Különböző foglalások száma": "1"
                                },
                                {
                                    "Szoba": "169",
                                    "Különböző foglalások száma": "3"
                                },
                                {
                                    "Szoba": "170",
                                    "Különböző foglalások száma": "3"
                                },
                                {
                                    "Szoba": "171",
                                    "Különböző foglalások száma": "5"
                                },
                                {
                                    "Szoba": "172",
                                    "Különböző foglalások száma": "6"
                                },
                                {
                                    "Szoba": "173",
                                    "Különböző foglalások száma": "3"
                                },
                                {
                                    "Szoba": "174",
                                    "Különböző foglalások száma": "4"
                                },
                                {
                                    "Szoba": "175",
                                    "Különböző foglalások száma": "3"
                                },
                                {
                                    "Szoba": "176",
                                    "Különböző foglalások száma": "2"
                                },
                                {
                                    "Szoba": "177",
                                    "Különböző foglalások száma": "1"
                                },
                                {
                                    "Szoba": "178",
                                    "Különböző foglalások száma": "1"
                                },
                                {
                                    "Szoba": "179",
                                    "Különböző foglalások száma": "2"
                                },
                                {
                                    "Szoba": "180",
                                    "Különböző foglalások száma": "1"
                                },
                                {
                                    "Szoba": "181",
                                    "Különböző foglalások száma": "5"
                                },
                                {
                                    "Szoba": "182",
                                    "Különböző foglalások száma": "11"
                                },
                                {
                                    "Szoba": "183",
                                    "Különböző foglalások száma": "3"
                                },
                                {
                                    "Szoba": "184",
                                    "Különböző foglalások száma": "4"
                                },
                                {
                                    "Szoba": "185",
                                    "Különböző foglalások száma": "10"
                                },
                                {
                                    "Szoba": "186",
                                    "Különböző foglalások száma": "1"
                                },
                                {
                                    "Szoba": "187",
                                    "Különböző foglalások száma": "6"
                                },
                                {
                                    "Szoba": "188",
                                    "Különböző foglalások száma": "2"
                                },
                                {
                                    "Szoba": "189",
                                    "Különböző foglalások száma": "1"
                                },
                                {
                                    "Szoba": "190",
                                    "Különböző foglalások száma": "5"
                                },
                                {
                                    "Szoba": "191",
                                    "Különböző foglalások száma": "3"
                                },
                                {
                                    "Szoba": "192",
                                    "Különböző foglalások száma": "1"
                                },
                                {
                                    "Szoba": "193",
                                    "Különböző foglalások száma": "2"
                                },
                                {
                                    "Szoba": "194",
                                    "Különböző foglalások száma": "1"
                                },
                                {
                                    "Szoba": "195",
                                    "Különböző foglalások száma": "5"
                                },
                                {
                                    "Szoba": "196",
                                    "Különböző foglalások száma": "2"
                                },
                                {
                                    "Szoba": "197",
                                    "Különböző foglalások száma": "6"
                                },
                                {
                                    "Szoba": "198",
                                    "Különböző foglalások száma": "7"
                                },
                                {
                                    "Szoba": "Végösszeg",
                                    "Különböző foglalások száma": "668"
                                }
                            ]
                        },
                        "text/html": [
                            "<table>",
                            "<tr><th>Szoba</th><th>Különböző foglalások száma</th></tr>",
                            "<tr><td>1</td><td>7</td></tr>",
                            "<tr><td>2</td><td>2</td></tr>",
                            "<tr><td>3</td><td>3</td></tr>",
                            "<tr><td>4</td><td>5</td></tr>",
                            "<tr><td>5</td><td>2</td></tr>",
                            "<tr><td>6</td><td>5</td></tr>",
                            "<tr><td>7</td><td>6</td></tr>",
                            "<tr><td>8</td><td>5</td></tr>",
                            "<tr><td>9</td><td>4</td></tr>",
                            "<tr><td>10</td><td>4</td></tr>",
                            "<tr><td>11</td><td>4</td></tr>",
                            "<tr><td>12</td><td>7</td></tr>",
                            "<tr><td>13</td><td>4</td></tr>",
                            "<tr><td>14</td><td>3</td></tr>",
                            "<tr><td>15</td><td>4</td></tr>",
                            "<tr><td>16</td><td>1</td></tr>",
                            "<tr><td>17</td><td>2</td></tr>",
                            "<tr><td>18</td><td>3</td></tr>",
                            "<tr><td>19</td><td>4</td></tr>",
                            "<tr><td>20</td><td>5</td></tr>",
                            "<tr><td>21</td><td>1</td></tr>",
                            "<tr><td>22</td><td>2</td></tr>",
                            "<tr><td>23</td><td>3</td></tr>",
                            "<tr><td>24</td><td>3</td></tr>",
                            "<tr><td>25</td><td>1</td></tr>",
                            "<tr><td>27</td><td>5</td></tr>",
                            "<tr><td>28</td><td>5</td></tr>",
                            "<tr><td>29</td><td>3</td></tr>",
                            "<tr><td>30</td><td>2</td></tr>",
                            "<tr><td>31</td><td>1</td></tr>",
                            "<tr><td>32</td><td>1</td></tr>",
                            "<tr><td>33</td><td>3</td></tr>",
                            "<tr><td>34</td><td>3</td></tr>",
                            "<tr><td>35</td><td>6</td></tr>",
                            "<tr><td>36</td><td>4</td></tr>",
                            "<tr><td>37</td><td>2</td></tr>",
                            "<tr><td>38</td><td>5</td></tr>",
                            "<tr><td>39</td><td>4</td></tr>",
                            "<tr><td>40</td><td>3</td></tr>",
                            "<tr><td>41</td><td>1</td></tr>",
                            "<tr><td>42</td><td>5</td></tr>",
                            "<tr><td>43</td><td>4</td></tr>",
                            "<tr><td>44</td><td>6</td></tr>",
                            "<tr><td>45</td><td>4</td></tr>",
                            "<tr><td>46</td><td>3</td></tr>",
                            "<tr><td>47</td><td>2</td></tr>",
                            "<tr><td>48</td><td>6</td></tr>",
                            "<tr><td>49</td><td>5</td></tr>",
                            "<tr><td>50</td><td>3</td></tr>",
                            "<tr><td>51</td><td>3</td></tr>",
                            "<tr><td>52</td><td>5</td></tr>",
                            "<tr><td>54</td><td>4</td></tr>",
                            "<tr><td>55</td><td>3</td></tr>",
                            "<tr><td>56</td><td>1</td></tr>",
                            "<tr><td>57</td><td>3</td></tr>",
                            "<tr><td>58</td><td>8</td></tr>",
                            "<tr><td>59</td><td>4</td></tr>",
                            "<tr><td>60</td><td>1</td></tr>",
                            "<tr><td>61</td><td>4</td></tr>",
                            "<tr><td>62</td><td>3</td></tr>",
                            "<tr><td>63</td><td>3</td></tr>",
                            "<tr><td>64</td><td>5</td></tr>",
                            "<tr><td>66</td><td>3</td></tr>",
                            "<tr><td>67</td><td>2</td></tr>",
                            "<tr><td>69</td><td>2</td></tr>",
                            "<tr><td>70</td><td>8</td></tr>",
                            "<tr><td>71</td><td>2</td></tr>",
                            "<tr><td>72</td><td>2</td></tr>",
                            "<tr><td>73</td><td>4</td></tr>",
                            "<tr><td>74</td><td>8</td></tr>",
                            "<tr><td>75</td><td>2</td></tr>",
                            "<tr><td>76</td><td>2</td></tr>",
                            "<tr><td>77</td><td>3</td></tr>",
                            "<tr><td>78</td><td>3</td></tr>",
                            "<tr><td>79</td><td>4</td></tr>",
                            "<tr><td>80</td><td>5</td></tr>",
                            "<tr><td>81</td><td>3</td></tr>",
                            "<tr><td>82</td><td>5</td></tr>",
                            "<tr><td>83</td><td>5</td></tr>",
                            "<tr><td>84</td><td>3</td></tr>",
                            "<tr><td>85</td><td>2</td></tr>",
                            "<tr><td>86</td><td>4</td></tr>",
                            "<tr><td>87</td><td>5</td></tr>",
                            "<tr><td>88</td><td>5</td></tr>",
                            "<tr><td>89</td><td>8</td></tr>",
                            "<tr><td>90</td><td>3</td></tr>",
                            "<tr><td>91</td><td>2</td></tr>",
                            "<tr><td>92</td><td>5</td></tr>",
                            "<tr><td>93</td><td>3</td></tr>",
                            "<tr><td>94</td><td>6</td></tr>",
                            "<tr><td>95</td><td>3</td></tr>",
                            "<tr><td>96</td><td>6</td></tr>",
                            "<tr><td>97</td><td>5</td></tr>",
                            "<tr><td>98</td><td>4</td></tr>",
                            "<tr><td>99</td><td>4</td></tr>",
                            "<tr><td>100</td><td>2</td></tr>",
                            "<tr><td>101</td><td>1</td></tr>",
                            "<tr><td>102</td><td>1</td></tr>",
                            "<tr><td>103</td><td>1</td></tr>",
                            "<tr><td>104</td><td>3</td></tr>",
                            "<tr><td>106</td><td>4</td></tr>",
                            "<tr><td>107</td><td>4</td></tr>",
                            "<tr><td>108</td><td>1</td></tr>",
                            "<tr><td>109</td><td>2</td></tr>",
                            "<tr><td>110</td><td>5</td></tr>",
                            "<tr><td>111</td><td>1</td></tr>",
                            "<tr><td>112</td><td>4</td></tr>",
                            "<tr><td>113</td><td>2</td></tr>",
                            "<tr><td>114</td><td>1</td></tr>",
                            "<tr><td>115</td><td>5</td></tr>",
                            "<tr><td>117</td><td>4</td></tr>",
                            "<tr><td>118</td><td>2</td></tr>",
                            "<tr><td>119</td><td>4</td></tr>",
                            "<tr><td>120</td><td>2</td></tr>",
                            "<tr><td>121</td><td>5</td></tr>",
                            "<tr><td>122</td><td>3</td></tr>",
                            "<tr><td>123</td><td>5</td></tr>",
                            "<tr><td>124</td><td>4</td></tr>",
                            "<tr><td>126</td><td>4</td></tr>",
                            "<tr><td>127</td><td>5</td></tr>",
                            "<tr><td>129</td><td>3</td></tr>",
                            "<tr><td>130</td><td>5</td></tr>",
                            "<tr><td>131</td><td>4</td></tr>",
                            "<tr><td>132</td><td>4</td></tr>",
                            "<tr><td>133</td><td>4</td></tr>",
                            "<tr><td>134</td><td>4</td></tr>",
                            "<tr><td>135</td><td>3</td></tr>",
                            "<tr><td>136</td><td>2</td></tr>",
                            "<tr><td>137</td><td>2</td></tr>",
                            "<tr><td>138</td><td>5</td></tr>",
                            "<tr><td>139</td><td>6</td></tr>",
                            "<tr><td>140</td><td>5</td></tr>",
                            "<tr><td>141</td><td>4</td></tr>",
                            "<tr><td>142</td><td>1</td></tr>",
                            "<tr><td>143</td><td>5</td></tr>",
                            "<tr><td>144</td><td>2</td></tr>",
                            "<tr><td>145</td><td>2</td></tr>",
                            "<tr><td>146</td><td>3</td></tr>",
                            "<tr><td>147</td><td>1</td></tr>",
                            "<tr><td>148</td><td>5</td></tr>",
                            "<tr><td>149</td><td>5</td></tr>",
                            "<tr><td>150</td><td>6</td></tr>",
                            "<tr><td>151</td><td>2</td></tr>",
                            "<tr><td>152</td><td>3</td></tr>",
                            "<tr><td>153</td><td>4</td></tr>",
                            "<tr><td>154</td><td>3</td></tr>",
                            "<tr><td>155</td><td>3</td></tr>",
                            "<tr><td>156</td><td>2</td></tr>",
                            "<tr><td>157</td><td>2</td></tr>",
                            "<tr><td>158</td><td>3</td></tr>",
                            "<tr><td>160</td><td>2</td></tr>",
                            "<tr><td>161</td><td>3</td></tr>",
                            "<tr><td>162</td><td>2</td></tr>",
                            "<tr><td>163</td><td>5</td></tr>",
                            "<tr><td>164</td><td>4</td></tr>",
                            "<tr><td>165</td><td>5</td></tr>",
                            "<tr><td>166</td><td>3</td></tr>",
                            "<tr><td>167</td><td>2</td></tr>",
                            "<tr><td>168</td><td>1</td></tr>",
                            "<tr><td>169</td><td>3</td></tr>",
                            "<tr><td>170</td><td>3</td></tr>",
                            "<tr><td>171</td><td>5</td></tr>",
                            "<tr><td>172</td><td>6</td></tr>",
                            "<tr><td>173</td><td>3</td></tr>",
                            "<tr><td>174</td><td>4</td></tr>",
                            "<tr><td>175</td><td>3</td></tr>",
                            "<tr><td>176</td><td>2</td></tr>",
                            "<tr><td>177</td><td>1</td></tr>",
                            "<tr><td>178</td><td>1</td></tr>",
                            "<tr><td>179</td><td>2</td></tr>",
                            "<tr><td>180</td><td>1</td></tr>",
                            "<tr><td>181</td><td>5</td></tr>",
                            "<tr><td>182</td><td>11</td></tr>",
                            "<tr><td>183</td><td>3</td></tr>",
                            "<tr><td>184</td><td>4</td></tr>",
                            "<tr><td>185</td><td>10</td></tr>",
                            "<tr><td>186</td><td>1</td></tr>",
                            "<tr><td>187</td><td>6</td></tr>",
                            "<tr><td>188</td><td>2</td></tr>",
                            "<tr><td>189</td><td>1</td></tr>",
                            "<tr><td>190</td><td>5</td></tr>",
                            "<tr><td>191</td><td>3</td></tr>",
                            "<tr><td>192</td><td>1</td></tr>",
                            "<tr><td>193</td><td>2</td></tr>",
                            "<tr><td>194</td><td>1</td></tr>",
                            "<tr><td>195</td><td>5</td></tr>",
                            "<tr><td>196</td><td>2</td></tr>",
                            "<tr><td>197</td><td>6</td></tr>",
                            "<tr><td>198</td><td>7</td></tr>",
                            "<tr><td>Végösszeg</td><td>668</td></tr>",
                            "</table>"
                        ]
                    }
                }
            ],
            "execution_count": 17
        },
        {
            "cell_type": "markdown",
            "source": [
                "2\\. feladat"
            ],
            "metadata": {
                "azdata_cell_guid": "1da8d158-6afd-4a20-b868-9831dd8f76df"
            },
            "attachments": {}
        },
        {
            "cell_type": "code",
            "source": [
                "SELECT v.NEV\r\n",
                "FROM Vendeg v\r\n",
                "WHERE NOT EXISTS (\r\n",
                "    SELECT 1\r\n",
                "    FROM Foglalas f2\r\n",
                "    WHERE v.USERNEV = f2.UGYFEL_FK\r\n",
                "    AND DATEDIFF(DAY, f2.METTOL, f2.MEDDIG) > 2\r\n",
                ")"
            ],
            "metadata": {
                "azdata_cell_guid": "932ff920-848a-4ff4-a758-f39b21b974ec",
                "language": "sql",
                "tags": []
            },
            "outputs": [
                {
                    "output_type": "display_data",
                    "data": {
                        "text/html": "(9 rows affected)"
                    },
                    "metadata": {}
                },
                {
                    "output_type": "display_data",
                    "data": {
                        "text/html": "Total execution time: 00:00:00.016"
                    },
                    "metadata": {}
                },
                {
                    "output_type": "execute_result",
                    "metadata": {},
                    "execution_count": 15,
                    "data": {
                        "application/vnd.dataresource+json": {
                            "schema": {
                                "fields": [
                                    {
                                        "name": "NEV"
                                    }
                                ]
                            },
                            "data": [
                                {
                                    "NEV": "Szomor Andrea"
                                },
                                {
                                    "NEV": "Szűcs Annamária"
                                },
                                {
                                    "NEV": "Szöllősi Gábor"
                                },
                                {
                                    "NEV": "Búza Imre"
                                },
                                {
                                    "NEV": "Gondos Miklós"
                                },
                                {
                                    "NEV": "Bodor Szabolcs"
                                },
                                {
                                    "NEV": "Papós Tímea"
                                },
                                {
                                    "NEV": "Keresztúri Viktor"
                                },
                                {
                                    "NEV": "Molnár Zsófi"
                                }
                            ]
                        },
                        "text/html": [
                            "<table>",
                            "<tr><th>NEV</th></tr>",
                            "<tr><td>Szomor Andrea</td></tr>",
                            "<tr><td>Szűcs Annamária</td></tr>",
                            "<tr><td>Szöllősi Gábor</td></tr>",
                            "<tr><td>Búza Imre</td></tr>",
                            "<tr><td>Gondos Miklós</td></tr>",
                            "<tr><td>Bodor Szabolcs</td></tr>",
                            "<tr><td>Papós Tímea</td></tr>",
                            "<tr><td>Keresztúri Viktor</td></tr>",
                            "<tr><td>Molnár Zsófi</td></tr>",
                            "</table>"
                        ]
                    }
                }
            ],
            "execution_count": 15
        }
    ]
}