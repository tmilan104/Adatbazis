{
    "metadata": {
        "kernelspec": {
            "name": "SQL",
            "display_name": "SQL",
            "language": "sql"
        },
        "language_info": {
            "name": "sql",
            "version": ""
        }
    },
    "nbformat_minor": 2,
    "nbformat": 4,
    "cells": [
        {
            "cell_type": "markdown",
            "source": [
                "1\\. Feladat"
            ],
            "metadata": {
                "azdata_cell_guid": "f05ae82b-6d6c-43c2-b524-71db58cdf4a9"
            },
            "attachments": {}
        },
        {
            "cell_type": "code",
            "source": [
                "SELECT IIF(sz.SZOBA_ID IS NULL, 'Végösszeg', CAST(sz.SZOBA_ID AS VARCHAR)) AS 'Szoba',\r\n",
                "       COUNT(DISTINCT(f.FOGLALAS_PK)) AS 'Különböző foglalások száma'\r\n",
                "FROM SZOBA sz \r\n",
                "LEFT JOIN Foglalas f ON sz.SZOBA_ID = f.SZOBA_FK\r\n",
                "WHERE FELNOTT_SZAM > GYERMEK_SZAM\r\n",
                "GROUP BY ROLLUP(sz.SZOBA_ID);\r\n",
                ""
            ],
            "metadata": {
                "azdata_cell_guid": "9facb2d6-527b-4dd6-9f5a-ac5fb479e47a",
                "language": "sql"
            },
            "outputs": [
                {
                    "output_type": "display_data",
                    "data": {
                        "text/html": "(8 rows affected)"
                    },
                    "metadata": {}
                },
                {
                    "output_type": "display_data",
                    "data": {
                        "text/html": "Total execution time: 00:00:00.036"
                    },
                    "metadata": {}
                },
                {
                    "output_type": "execute_result",
                    "metadata": {},
                    "execution_count": 18,
                    "data": {
                        "application/vnd.dataresource+json": {
                            "schema": {
                                "fields": [
                                    {
                                        "name": "NEV"
                                    }
                                ]
                            },
                            "data": [
                                {
                                    "NEV": "Bodor Szabolcs"
                                },
                                {
                                    "NEV": "Búza Imre"
                                },
                                {
                                    "NEV": "Gondos Miklós"
                                },
                                {
                                    "NEV": "Keresztúri Viktor"
                                },
                                {
                                    "NEV": "Molnár Zsófi"
                                },
                                {
                                    "NEV": "Papós Tímea"
                                },
                                {
                                    "NEV": "Szomor Andrea"
                                },
                                {
                                    "NEV": "Szűcs Annamária"
                                }
                            ]
                        },
                        "text/html": [
                            "<table>",
                            "<tr><th>NEV</th></tr>",
                            "<tr><td>Bodor Szabolcs</td></tr>",
                            "<tr><td>Búza Imre</td></tr>",
                            "<tr><td>Gondos Miklós</td></tr>",
                            "<tr><td>Keresztúri Viktor</td></tr>",
                            "<tr><td>Molnár Zsófi</td></tr>",
                            "<tr><td>Papós Tímea</td></tr>",
                            "<tr><td>Szomor Andrea</td></tr>",
                            "<tr><td>Szűcs Annamária</td></tr>",
                            "</table>"
                        ]
                    }
                }
            ],
            "execution_count": 18
        },
        {
            "cell_type": "markdown",
            "source": [
                "2\\. feladat"
            ],
            "metadata": {
                "azdata_cell_guid": "1da8d158-6afd-4a20-b868-9831dd8f76df"
            },
            "attachments": {}
        },
        {
            "cell_type": "code",
            "source": [
                "SELECT v.NEV\r\n",
                "FROM Vendeg v\r\n",
                "JOIN Foglalas f ON v.USERNEV = f.UGYFEL_FK\r\n",
                "WHERE NOT EXISTS (\r\n",
                "    SELECT 1\r\n",
                "    FROM Foglalas f2\r\n",
                "    WHERE v.USERNEV = f2.UGYFEL_FK\r\n",
                "    AND DATEDIFF(DAY, f2.METTOL, f2.MEDDIG) > 2\r\n",
                ")\r\n",
                "GROUP BY v.NEV;"
            ],
            "metadata": {
                "azdata_cell_guid": "932ff920-848a-4ff4-a758-f39b21b974ec",
                "language": "sql",
                "tags": []
            },
            "outputs": [
                {
                    "output_type": "display_data",
                    "data": {
                        "text/html": "(8 rows affected)"
                    },
                    "metadata": {}
                },
                {
                    "output_type": "display_data",
                    "data": {
                        "text/html": "Total execution time: 00:00:00.017"
                    },
                    "metadata": {}
                },
                {
                    "output_type": "execute_result",
                    "metadata": {},
                    "execution_count": 19,
                    "data": {
                        "application/vnd.dataresource+json": {
                            "schema": {
                                "fields": [
                                    {
                                        "name": "NEV"
                                    }
                                ]
                            },
                            "data": [
                                {
                                    "NEV": "Bodor Szabolcs"
                                },
                                {
                                    "NEV": "Búza Imre"
                                },
                                {
                                    "NEV": "Gondos Miklós"
                                },
                                {
                                    "NEV": "Keresztúri Viktor"
                                },
                                {
                                    "NEV": "Molnár Zsófi"
                                },
                                {
                                    "NEV": "Papós Tímea"
                                },
                                {
                                    "NEV": "Szomor Andrea"
                                },
                                {
                                    "NEV": "Szűcs Annamária"
                                }
                            ]
                        },
                        "text/html": [
                            "<table>",
                            "<tr><th>NEV</th></tr>",
                            "<tr><td>Bodor Szabolcs</td></tr>",
                            "<tr><td>Búza Imre</td></tr>",
                            "<tr><td>Gondos Miklós</td></tr>",
                            "<tr><td>Keresztúri Viktor</td></tr>",
                            "<tr><td>Molnár Zsófi</td></tr>",
                            "<tr><td>Papós Tímea</td></tr>",
                            "<tr><td>Szomor Andrea</td></tr>",
                            "<tr><td>Szűcs Annamária</td></tr>",
                            "</table>"
                        ]
                    }
                }
            ],
            "execution_count": 19
        }
    ]
}